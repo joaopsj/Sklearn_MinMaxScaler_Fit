{
 "cells": [
  {
   "cell_type": "code",
   "execution_count": null,
   "id": "3bb5d95c",
   "metadata": {},
   "outputs": [],
   "source": [
    "import pandas as pd\n",
    "import numpy\n",
    "import plotly.express as px"
   ]
  },
  {
   "cell_type": "code",
   "execution_count": null,
   "id": "5fee9cd3",
   "metadata": {},
   "outputs": [],
   "source": [
    "iris_data_df = pd.read_csv(\"C:\\jupyter\\pandas_experiment\\projeto\\iris.csv\")"
   ]
  },
  {
   "cell_type": "code",
   "execution_count": null,
   "id": "3406b231",
   "metadata": {},
   "outputs": [],
   "source": [
    "iris_data_df"
   ]
  },
  {
   "cell_type": "code",
   "execution_count": null,
   "id": "de30145b",
   "metadata": {},
   "outputs": [],
   "source": [
    "iris_data_df.fillna(0.0, inplace=True)"
   ]
  },
  {
   "cell_type": "code",
   "execution_count": null,
   "id": "eee414f0",
   "metadata": {},
   "outputs": [],
   "source": [
    "iris_data_df.columns"
   ]
  },
  {
   "cell_type": "code",
   "execution_count": null,
   "id": "cf7b6e82",
   "metadata": {},
   "outputs": [],
   "source": [
    "from sklearn.preprocessing import MinMaxScaler\n",
    "data = iris_data_df[[c for c in iris_data_df.columns if c != 'variety']]\n",
    "scaler = MinMaxScaler()\n",
    "scaler.fit(data)\n",
    "preprocessed_data_df = scaler.transform(data)"
   ]
  },
  {
   "cell_type": "code",
   "execution_count": null,
   "id": "6d3cdcd0",
   "metadata": {},
   "outputs": [],
   "source": [
    "preprocessed_data_df = pd.DataFrame(preprocessed_data_df, columns = [c for c in iris_data_df.columns if c != 'variety'])"
   ]
  },
  {
   "cell_type": "code",
   "execution_count": null,
   "id": "a0d7c5b9",
   "metadata": {},
   "outputs": [],
   "source": [
    "preprocessed_data_df['variety'] = iris_data_df['variety'] "
   ]
  },
  {
   "cell_type": "code",
   "execution_count": null,
   "id": "4b28b6a3",
   "metadata": {},
   "outputs": [],
   "source": [
    "preprocessed_data_df"
   ]
  },
  {
   "cell_type": "code",
   "execution_count": null,
   "id": "58e9a6d4",
   "metadata": {},
   "outputs": [],
   "source": [
    "px.histogram(preprocessed_data_df, x='sepal.length', color='variety')"
   ]
  },
  {
   "cell_type": "code",
   "execution_count": null,
   "id": "fc98893c",
   "metadata": {},
   "outputs": [],
   "source": [
    "preprocessed_data_df.to_csv('C:\\jupyter\\pandas_experiment\\projeto\\preprocessed.csv')"
   ]
  },
  {
   "cell_type": "code",
   "execution_count": null,
   "id": "c666fb5c",
   "metadata": {},
   "outputs": [],
   "source": [
    "pd.read_csv('C:\\jupyter\\pandas_experiment\\projeto\\preprocessed.csv')"
   ]
  }
 ],
 "metadata": {
  "kernelspec": {
   "display_name": "Python 3 (ipykernel)",
   "language": "python",
   "name": "python3"
  },
  "language_info": {
   "codemirror_mode": {
    "name": "ipython",
    "version": 3
   },
   "file_extension": ".py",
   "mimetype": "text/x-python",
   "name": "python",
   "nbconvert_exporter": "python",
   "pygments_lexer": "ipython3",
   "version": "3.10.9"
  }
 },
 "nbformat": 4,
 "nbformat_minor": 5
}
